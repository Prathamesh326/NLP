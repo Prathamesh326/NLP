{
  "cells": [
    {
      "cell_type": "code",
      "execution_count": null,
      "metadata": {
        "colab": {
          "base_uri": "https://localhost:8080/"
        },
        "id": "rmdheRDohnNU",
        "outputId": "e971d3ec-5831-4d9a-db72-6c87bdbe8b5d"
      },
      "outputs": [
        {
          "output_type": "stream",
          "name": "stdout",
          "text": [
            "Requirement already satisfied: nltk in /usr/local/lib/python3.10/dist-packages (3.8.1)\n",
            "Requirement already satisfied: click in /usr/local/lib/python3.10/dist-packages (from nltk) (8.1.6)\n",
            "Requirement already satisfied: joblib in /usr/local/lib/python3.10/dist-packages (from nltk) (1.3.2)\n",
            "Requirement already satisfied: regex>=2021.8.3 in /usr/local/lib/python3.10/dist-packages (from nltk) (2023.6.3)\n",
            "Requirement already satisfied: tqdm in /usr/local/lib/python3.10/dist-packages (from nltk) (4.66.1)\n"
          ]
        }
      ],
      "source": [
        "!pip install nltk"
      ]
    },
    {
      "cell_type": "code",
      "execution_count": null,
      "metadata": {
        "id": "YSJ0sZLRh0gn"
      },
      "outputs": [],
      "source": [
        "import nltk"
      ]
    },
    {
      "cell_type": "code",
      "execution_count": null,
      "metadata": {
        "colab": {
          "base_uri": "https://localhost:8080/",
          "height": 581
        },
        "id": "-RI4d3J_h0jU",
        "outputId": "b83500b8-a354-44d9-9b67-1b8ff1fade3c"
      },
      "outputs": [
        {
          "name": "stdout",
          "output_type": "stream",
          "text": [
            "NLTK Downloader\n",
            "---------------------------------------------------------------------------\n",
            "    d) Download   l) List    u) Update   c) Config   h) Help   q) Quit\n",
            "---------------------------------------------------------------------------\n",
            "Downloader> d\n",
            "\n",
            "Download which package (l=list; x=cancel)?\n",
            "  Identifier> punkt\n"
          ]
        },
        {
          "output_type": "stream",
          "name": "stderr",
          "text": [
            "    Downloading package punkt to /root/nltk_data...\n",
            "      Unzipping tokenizers/punkt.zip.\n"
          ]
        },
        {
          "output_type": "stream",
          "name": "stdout",
          "text": [
            "\n",
            "---------------------------------------------------------------------------\n",
            "    d) Download   l) List    u) Update   c) Config   h) Help   q) Quit\n",
            "---------------------------------------------------------------------------\n"
          ]
        },
        {
          "output_type": "error",
          "ename": "KeyboardInterrupt",
          "evalue": "ignored",
          "traceback": [
            "\u001b[0;31m---------------------------------------------------------------------------\u001b[0m",
            "\u001b[0;31mKeyboardInterrupt\u001b[0m                         Traceback (most recent call last)",
            "\u001b[0;32m<ipython-input-9-6e230a00a763>\u001b[0m in \u001b[0;36m<cell line: 1>\u001b[0;34m()\u001b[0m\n\u001b[0;32m----> 1\u001b[0;31m \u001b[0mnltk\u001b[0m\u001b[0;34m.\u001b[0m\u001b[0mdownload\u001b[0m\u001b[0;34m(\u001b[0m\u001b[0;34m)\u001b[0m\u001b[0;34m\u001b[0m\u001b[0;34m\u001b[0m\u001b[0m\n\u001b[0m",
            "\u001b[0;32m/usr/local/lib/python3.10/dist-packages/nltk/downloader.py\u001b[0m in \u001b[0;36mdownload\u001b[0;34m(self, info_or_id, download_dir, quiet, force, prefix, halt_on_error, raise_on_error, print_error_to)\u001b[0m\n\u001b[1;32m    761\u001b[0m             \u001b[0;32mif\u001b[0m \u001b[0mdownload_dir\u001b[0m \u001b[0;32mis\u001b[0m \u001b[0;32mnot\u001b[0m \u001b[0;32mNone\u001b[0m\u001b[0;34m:\u001b[0m\u001b[0;34m\u001b[0m\u001b[0;34m\u001b[0m\u001b[0m\n\u001b[1;32m    762\u001b[0m                 \u001b[0mself\u001b[0m\u001b[0;34m.\u001b[0m\u001b[0m_download_dir\u001b[0m \u001b[0;34m=\u001b[0m \u001b[0mdownload_dir\u001b[0m\u001b[0;34m\u001b[0m\u001b[0;34m\u001b[0m\u001b[0m\n\u001b[0;32m--> 763\u001b[0;31m             \u001b[0mself\u001b[0m\u001b[0;34m.\u001b[0m\u001b[0m_interactive_download\u001b[0m\u001b[0;34m(\u001b[0m\u001b[0;34m)\u001b[0m\u001b[0;34m\u001b[0m\u001b[0;34m\u001b[0m\u001b[0m\n\u001b[0m\u001b[1;32m    764\u001b[0m             \u001b[0;32mreturn\u001b[0m \u001b[0;32mTrue\u001b[0m\u001b[0;34m\u001b[0m\u001b[0;34m\u001b[0m\u001b[0m\n\u001b[1;32m    765\u001b[0m \u001b[0;34m\u001b[0m\u001b[0m\n",
            "\u001b[0;32m/usr/local/lib/python3.10/dist-packages/nltk/downloader.py\u001b[0m in \u001b[0;36m_interactive_download\u001b[0;34m(self)\u001b[0m\n\u001b[1;32m   1113\u001b[0m                 \u001b[0mDownloaderGUI\u001b[0m\u001b[0;34m(\u001b[0m\u001b[0mself\u001b[0m\u001b[0;34m)\u001b[0m\u001b[0;34m.\u001b[0m\u001b[0mmainloop\u001b[0m\u001b[0;34m(\u001b[0m\u001b[0;34m)\u001b[0m\u001b[0;34m\u001b[0m\u001b[0;34m\u001b[0m\u001b[0m\n\u001b[1;32m   1114\u001b[0m             \u001b[0;32mexcept\u001b[0m \u001b[0mTclError\u001b[0m\u001b[0;34m:\u001b[0m\u001b[0;34m\u001b[0m\u001b[0;34m\u001b[0m\u001b[0m\n\u001b[0;32m-> 1115\u001b[0;31m                 \u001b[0mDownloaderShell\u001b[0m\u001b[0;34m(\u001b[0m\u001b[0mself\u001b[0m\u001b[0;34m)\u001b[0m\u001b[0;34m.\u001b[0m\u001b[0mrun\u001b[0m\u001b[0;34m(\u001b[0m\u001b[0;34m)\u001b[0m\u001b[0;34m\u001b[0m\u001b[0;34m\u001b[0m\u001b[0m\n\u001b[0m\u001b[1;32m   1116\u001b[0m         \u001b[0;32melse\u001b[0m\u001b[0;34m:\u001b[0m\u001b[0;34m\u001b[0m\u001b[0;34m\u001b[0m\u001b[0m\n\u001b[1;32m   1117\u001b[0m             \u001b[0mDownloaderShell\u001b[0m\u001b[0;34m(\u001b[0m\u001b[0mself\u001b[0m\u001b[0;34m)\u001b[0m\u001b[0;34m.\u001b[0m\u001b[0mrun\u001b[0m\u001b[0;34m(\u001b[0m\u001b[0;34m)\u001b[0m\u001b[0;34m\u001b[0m\u001b[0;34m\u001b[0m\u001b[0m\n",
            "\u001b[0;32m/usr/local/lib/python3.10/dist-packages/nltk/downloader.py\u001b[0m in \u001b[0;36mrun\u001b[0;34m(self)\u001b[0m\n\u001b[1;32m   1139\u001b[0m                 \u001b[0;34m\"q) Quit\"\u001b[0m\u001b[0;34m,\u001b[0m\u001b[0;34m\u001b[0m\u001b[0;34m\u001b[0m\u001b[0m\n\u001b[1;32m   1140\u001b[0m             )\n\u001b[0;32m-> 1141\u001b[0;31m             \u001b[0muser_input\u001b[0m \u001b[0;34m=\u001b[0m \u001b[0minput\u001b[0m\u001b[0;34m(\u001b[0m\u001b[0;34m\"Downloader> \"\u001b[0m\u001b[0;34m)\u001b[0m\u001b[0;34m.\u001b[0m\u001b[0mstrip\u001b[0m\u001b[0;34m(\u001b[0m\u001b[0;34m)\u001b[0m\u001b[0;34m\u001b[0m\u001b[0;34m\u001b[0m\u001b[0m\n\u001b[0m\u001b[1;32m   1142\u001b[0m             \u001b[0;32mif\u001b[0m \u001b[0;32mnot\u001b[0m \u001b[0muser_input\u001b[0m\u001b[0;34m:\u001b[0m\u001b[0;34m\u001b[0m\u001b[0;34m\u001b[0m\u001b[0m\n\u001b[1;32m   1143\u001b[0m                 \u001b[0mprint\u001b[0m\u001b[0;34m(\u001b[0m\u001b[0;34m)\u001b[0m\u001b[0;34m\u001b[0m\u001b[0;34m\u001b[0m\u001b[0m\n",
            "\u001b[0;32m/usr/local/lib/python3.10/dist-packages/ipykernel/kernelbase.py\u001b[0m in \u001b[0;36mraw_input\u001b[0;34m(self, prompt)\u001b[0m\n\u001b[1;32m    849\u001b[0m                 \u001b[0;34m\"raw_input was called, but this frontend does not support input requests.\"\u001b[0m\u001b[0;34m\u001b[0m\u001b[0;34m\u001b[0m\u001b[0m\n\u001b[1;32m    850\u001b[0m             )\n\u001b[0;32m--> 851\u001b[0;31m         return self._input_request(str(prompt),\n\u001b[0m\u001b[1;32m    852\u001b[0m             \u001b[0mself\u001b[0m\u001b[0;34m.\u001b[0m\u001b[0m_parent_ident\u001b[0m\u001b[0;34m,\u001b[0m\u001b[0;34m\u001b[0m\u001b[0;34m\u001b[0m\u001b[0m\n\u001b[1;32m    853\u001b[0m             \u001b[0mself\u001b[0m\u001b[0;34m.\u001b[0m\u001b[0m_parent_header\u001b[0m\u001b[0;34m,\u001b[0m\u001b[0;34m\u001b[0m\u001b[0;34m\u001b[0m\u001b[0m\n",
            "\u001b[0;32m/usr/local/lib/python3.10/dist-packages/ipykernel/kernelbase.py\u001b[0m in \u001b[0;36m_input_request\u001b[0;34m(self, prompt, ident, parent, password)\u001b[0m\n\u001b[1;32m    893\u001b[0m             \u001b[0;32mexcept\u001b[0m \u001b[0mKeyboardInterrupt\u001b[0m\u001b[0;34m:\u001b[0m\u001b[0;34m\u001b[0m\u001b[0;34m\u001b[0m\u001b[0m\n\u001b[1;32m    894\u001b[0m                 \u001b[0;31m# re-raise KeyboardInterrupt, to truncate traceback\u001b[0m\u001b[0;34m\u001b[0m\u001b[0;34m\u001b[0m\u001b[0m\n\u001b[0;32m--> 895\u001b[0;31m                 \u001b[0;32mraise\u001b[0m \u001b[0mKeyboardInterrupt\u001b[0m\u001b[0;34m(\u001b[0m\u001b[0;34m\"Interrupted by user\"\u001b[0m\u001b[0;34m)\u001b[0m \u001b[0;32mfrom\u001b[0m \u001b[0;32mNone\u001b[0m\u001b[0;34m\u001b[0m\u001b[0;34m\u001b[0m\u001b[0m\n\u001b[0m\u001b[1;32m    896\u001b[0m             \u001b[0;32mexcept\u001b[0m \u001b[0mException\u001b[0m \u001b[0;32mas\u001b[0m \u001b[0me\u001b[0m\u001b[0;34m:\u001b[0m\u001b[0;34m\u001b[0m\u001b[0;34m\u001b[0m\u001b[0m\n\u001b[1;32m    897\u001b[0m                 \u001b[0mself\u001b[0m\u001b[0;34m.\u001b[0m\u001b[0mlog\u001b[0m\u001b[0;34m.\u001b[0m\u001b[0mwarning\u001b[0m\u001b[0;34m(\u001b[0m\u001b[0;34m\"Invalid Message:\"\u001b[0m\u001b[0;34m,\u001b[0m \u001b[0mexc_info\u001b[0m\u001b[0;34m=\u001b[0m\u001b[0;32mTrue\u001b[0m\u001b[0;34m)\u001b[0m\u001b[0;34m\u001b[0m\u001b[0;34m\u001b[0m\u001b[0m\n",
            "\u001b[0;31mKeyboardInterrupt\u001b[0m: Interrupted by user"
          ]
        }
      ],
      "source": [
        "nltk.download()"
      ]
    },
    {
      "cell_type": "markdown",
      "metadata": {
        "id": "Yi9Uc3HVitS9"
      },
      "source": [
        "Sentence Tokenization"
      ]
    },
    {
      "cell_type": "code",
      "execution_count": null,
      "metadata": {
        "id": "_d_G3qBbh0l8"
      },
      "outputs": [],
      "source": [
        "from nltk.tokenize import sent_tokenize"
      ]
    },
    {
      "cell_type": "code",
      "execution_count": null,
      "metadata": {
        "id": "bEDbn6LSivS-"
      },
      "outputs": [],
      "source": [
        "text = '''Stephenson 2-18 is now known as being one of the largest, if not the current largest star ever discovered, surpassing other stars like VY Canis Majoris and UY Scuti.\n",
        "        Stephenson 2-18 has a radius of 2,150 solar radii, being larger than almost the entire orbit of Saturn (1,940 - 2,169 solar radii).'''"
      ]
    },
    {
      "cell_type": "code",
      "execution_count": null,
      "metadata": {
        "id": "JdDAC6V0h0oi",
        "colab": {
          "base_uri": "https://localhost:8080/",
          "height": 88
        },
        "outputId": "073e0d93-cfb4-417e-f864-33718c6e7074"
      },
      "outputs": [
        {
          "output_type": "execute_result",
          "data": {
            "text/plain": [
              "'Stephenson 2-18 is now known as being one of the largest, if not the current largest star ever discovered, surpassing other stars like VY Canis Majoris and UY Scuti.\\n        Stephenson 2-18 has a radius of 2,150 solar radii, being larger than almost the entire orbit of Saturn (1,940 - 2,169 solar radii).'"
            ],
            "application/vnd.google.colaboratory.intrinsic+json": {
              "type": "string"
            }
          },
          "metadata": {},
          "execution_count": 7
        }
      ],
      "source": [
        "text"
      ]
    },
    {
      "cell_type": "code",
      "execution_count": null,
      "metadata": {
        "id": "GOePs9v_h0rX"
      },
      "outputs": [],
      "source": [
        "sentences = sent_tokenize(text)"
      ]
    },
    {
      "cell_type": "code",
      "source": [
        "sentences"
      ],
      "metadata": {
        "colab": {
          "base_uri": "https://localhost:8080/"
        },
        "id": "mu4LZF24SM0z",
        "outputId": "30de3398-62e0-43ac-ec0e-8c3435a733d6"
      },
      "execution_count": null,
      "outputs": [
        {
          "output_type": "execute_result",
          "data": {
            "text/plain": [
              "['Stephenson 2-18 is now known as being one of the largest, if not the current largest star ever discovered, surpassing other stars like VY Canis Majoris and UY Scuti.',\n",
              " 'Stephenson 2-18 has a radius of 2,150 solar radii, being larger than almost the entire orbit of Saturn (1,940 - 2,169 solar radii).']"
            ]
          },
          "metadata": {},
          "execution_count": 12
        }
      ]
    },
    {
      "cell_type": "markdown",
      "source": [
        "Word Tokenization"
      ],
      "metadata": {
        "id": "6Vtp-NS5SQZZ"
      }
    },
    {
      "cell_type": "code",
      "source": [
        "from nltk.tokenize import word_tokenize"
      ],
      "metadata": {
        "id": "Nj9ZfuphSTOM"
      },
      "execution_count": null,
      "outputs": []
    },
    {
      "cell_type": "code",
      "source": [
        "words = word_tokenize (text)"
      ],
      "metadata": {
        "id": "7bluWg6wSNgz"
      },
      "execution_count": null,
      "outputs": []
    },
    {
      "cell_type": "code",
      "source": [
        "words"
      ],
      "metadata": {
        "colab": {
          "base_uri": "https://localhost:8080/"
        },
        "id": "hV0zZxNFSNj5",
        "outputId": "01b30f63-0bca-4695-81fe-ef8f5f02f943"
      },
      "execution_count": null,
      "outputs": [
        {
          "output_type": "execute_result",
          "data": {
            "text/plain": [
              "['Stephenson',\n",
              " '2-18',\n",
              " 'is',\n",
              " 'now',\n",
              " 'known',\n",
              " 'as',\n",
              " 'being',\n",
              " 'one',\n",
              " 'of',\n",
              " 'the',\n",
              " 'largest',\n",
              " ',',\n",
              " 'if',\n",
              " 'not',\n",
              " 'the',\n",
              " 'current',\n",
              " 'largest',\n",
              " 'star',\n",
              " 'ever',\n",
              " 'discovered',\n",
              " ',',\n",
              " 'surpassing',\n",
              " 'other',\n",
              " 'stars',\n",
              " 'like',\n",
              " 'VY',\n",
              " 'Canis',\n",
              " 'Majoris',\n",
              " 'and',\n",
              " 'UY',\n",
              " 'Scuti',\n",
              " '.',\n",
              " 'Stephenson',\n",
              " '2-18',\n",
              " 'has',\n",
              " 'a',\n",
              " 'radius',\n",
              " 'of',\n",
              " '2,150',\n",
              " 'solar',\n",
              " 'radii',\n",
              " ',',\n",
              " 'being',\n",
              " 'larger',\n",
              " 'than',\n",
              " 'almost',\n",
              " 'the',\n",
              " 'entire',\n",
              " 'orbit',\n",
              " 'of',\n",
              " 'Saturn',\n",
              " '(',\n",
              " '1,940',\n",
              " '-',\n",
              " '2,169',\n",
              " 'solar',\n",
              " 'radii',\n",
              " ')',\n",
              " '.']"
            ]
          },
          "metadata": {},
          "execution_count": 16
        }
      ]
    },
    {
      "cell_type": "code",
      "source": [
        "for w in words :\n",
        "  print(w)"
      ],
      "metadata": {
        "colab": {
          "base_uri": "https://localhost:8080/"
        },
        "id": "5ZJOYiklSNm7",
        "outputId": "e5677938-2e14-4c63-9790-5049649a4b18"
      },
      "execution_count": null,
      "outputs": [
        {
          "output_type": "stream",
          "name": "stdout",
          "text": [
            "Stephenson\n",
            "2-18\n",
            "is\n",
            "now\n",
            "known\n",
            "as\n",
            "being\n",
            "one\n",
            "of\n",
            "the\n",
            "largest\n",
            ",\n",
            "if\n",
            "not\n",
            "the\n",
            "current\n",
            "largest\n",
            "star\n",
            "ever\n",
            "discovered\n",
            ",\n",
            "surpassing\n",
            "other\n",
            "stars\n",
            "like\n",
            "VY\n",
            "Canis\n",
            "Majoris\n",
            "and\n",
            "UY\n",
            "Scuti\n",
            ".\n",
            "Stephenson\n",
            "2-18\n",
            "has\n",
            "a\n",
            "radius\n",
            "of\n",
            "2,150\n",
            "solar\n",
            "radii\n",
            ",\n",
            "being\n",
            "larger\n",
            "than\n",
            "almost\n",
            "the\n",
            "entire\n",
            "orbit\n",
            "of\n",
            "Saturn\n",
            "(\n",
            "1,940\n",
            "-\n",
            "2,169\n",
            "solar\n",
            "radii\n",
            ")\n",
            ".\n"
          ]
        }
      ]
    },
    {
      "cell_type": "markdown",
      "source": [
        "Levels of Sentences Tokenize using Comprehension"
      ],
      "metadata": {
        "id": "edIg3JwRSlHa"
      }
    },
    {
      "cell_type": "code",
      "source": [
        "sent_tokenize(text)"
      ],
      "metadata": {
        "colab": {
          "base_uri": "https://localhost:8080/"
        },
        "id": "6QhwX2ceSNpq",
        "outputId": "f9d0a3d0-1d16-4db3-edf4-f428029aa67c"
      },
      "execution_count": null,
      "outputs": [
        {
          "output_type": "execute_result",
          "data": {
            "text/plain": [
              "['Stephenson 2-18 is now known as being one of the largest, if not the current largest star ever discovered, surpassing other stars like VY Canis Majoris and UY Scuti.',\n",
              " 'Stephenson 2-18 has a radius of 2,150 solar radii, being larger than almost the entire orbit of Saturn (1,940 - 2,169 solar radii).']"
            ]
          },
          "metadata": {},
          "execution_count": 18
        }
      ]
    },
    {
      "cell_type": "code",
      "source": [
        "[word_tokenize(text) for t in sent_tokenize(text)]"
      ],
      "metadata": {
        "colab": {
          "base_uri": "https://localhost:8080/"
        },
        "id": "Iaqp-sh6SNs5",
        "outputId": "cab605ee-b358-4cd1-d32d-b99402c88a64"
      },
      "execution_count": null,
      "outputs": [
        {
          "output_type": "execute_result",
          "data": {
            "text/plain": [
              "[['Stephenson',\n",
              "  '2-18',\n",
              "  'is',\n",
              "  'now',\n",
              "  'known',\n",
              "  'as',\n",
              "  'being',\n",
              "  'one',\n",
              "  'of',\n",
              "  'the',\n",
              "  'largest',\n",
              "  ',',\n",
              "  'if',\n",
              "  'not',\n",
              "  'the',\n",
              "  'current',\n",
              "  'largest',\n",
              "  'star',\n",
              "  'ever',\n",
              "  'discovered',\n",
              "  ',',\n",
              "  'surpassing',\n",
              "  'other',\n",
              "  'stars',\n",
              "  'like',\n",
              "  'VY',\n",
              "  'Canis',\n",
              "  'Majoris',\n",
              "  'and',\n",
              "  'UY',\n",
              "  'Scuti',\n",
              "  '.',\n",
              "  'Stephenson',\n",
              "  '2-18',\n",
              "  'has',\n",
              "  'a',\n",
              "  'radius',\n",
              "  'of',\n",
              "  '2,150',\n",
              "  'solar',\n",
              "  'radii',\n",
              "  ',',\n",
              "  'being',\n",
              "  'larger',\n",
              "  'than',\n",
              "  'almost',\n",
              "  'the',\n",
              "  'entire',\n",
              "  'orbit',\n",
              "  'of',\n",
              "  'Saturn',\n",
              "  '(',\n",
              "  '1,940',\n",
              "  '-',\n",
              "  '2,169',\n",
              "  'solar',\n",
              "  'radii',\n",
              "  ')',\n",
              "  '.'],\n",
              " ['Stephenson',\n",
              "  '2-18',\n",
              "  'is',\n",
              "  'now',\n",
              "  'known',\n",
              "  'as',\n",
              "  'being',\n",
              "  'one',\n",
              "  'of',\n",
              "  'the',\n",
              "  'largest',\n",
              "  ',',\n",
              "  'if',\n",
              "  'not',\n",
              "  'the',\n",
              "  'current',\n",
              "  'largest',\n",
              "  'star',\n",
              "  'ever',\n",
              "  'discovered',\n",
              "  ',',\n",
              "  'surpassing',\n",
              "  'other',\n",
              "  'stars',\n",
              "  'like',\n",
              "  'VY',\n",
              "  'Canis',\n",
              "  'Majoris',\n",
              "  'and',\n",
              "  'UY',\n",
              "  'Scuti',\n",
              "  '.',\n",
              "  'Stephenson',\n",
              "  '2-18',\n",
              "  'has',\n",
              "  'a',\n",
              "  'radius',\n",
              "  'of',\n",
              "  '2,150',\n",
              "  'solar',\n",
              "  'radii',\n",
              "  ',',\n",
              "  'being',\n",
              "  'larger',\n",
              "  'than',\n",
              "  'almost',\n",
              "  'the',\n",
              "  'entire',\n",
              "  'orbit',\n",
              "  'of',\n",
              "  'Saturn',\n",
              "  '(',\n",
              "  '1,940',\n",
              "  '-',\n",
              "  '2,169',\n",
              "  'solar',\n",
              "  'radii',\n",
              "  ')',\n",
              "  '.']]"
            ]
          },
          "metadata": {},
          "execution_count": 19
        }
      ]
    },
    {
      "cell_type": "code",
      "source": [
        "from nltk.tokenize import wordpunct_tokenize"
      ],
      "metadata": {
        "id": "eADjE8h3S3Ve"
      },
      "execution_count": null,
      "outputs": []
    },
    {
      "cell_type": "code",
      "source": [
        "wordpunct_tokenize(text)"
      ],
      "metadata": {
        "colab": {
          "base_uri": "https://localhost:8080/"
        },
        "id": "Z4ortiWgS3ZL",
        "outputId": "db839056-9c14-4af0-a65a-a9a7c5e0757d"
      },
      "execution_count": null,
      "outputs": [
        {
          "output_type": "execute_result",
          "data": {
            "text/plain": [
              "['Stephenson',\n",
              " '2',\n",
              " '-',\n",
              " '18',\n",
              " 'is',\n",
              " 'now',\n",
              " 'known',\n",
              " 'as',\n",
              " 'being',\n",
              " 'one',\n",
              " 'of',\n",
              " 'the',\n",
              " 'largest',\n",
              " ',',\n",
              " 'if',\n",
              " 'not',\n",
              " 'the',\n",
              " 'current',\n",
              " 'largest',\n",
              " 'star',\n",
              " 'ever',\n",
              " 'discovered',\n",
              " ',',\n",
              " 'surpassing',\n",
              " 'other',\n",
              " 'stars',\n",
              " 'like',\n",
              " 'VY',\n",
              " 'Canis',\n",
              " 'Majoris',\n",
              " 'and',\n",
              " 'UY',\n",
              " 'Scuti',\n",
              " '.',\n",
              " 'Stephenson',\n",
              " '2',\n",
              " '-',\n",
              " '18',\n",
              " 'has',\n",
              " 'a',\n",
              " 'radius',\n",
              " 'of',\n",
              " '2',\n",
              " ',',\n",
              " '150',\n",
              " 'solar',\n",
              " 'radii',\n",
              " ',',\n",
              " 'being',\n",
              " 'larger',\n",
              " 'than',\n",
              " 'almost',\n",
              " 'the',\n",
              " 'entire',\n",
              " 'orbit',\n",
              " 'of',\n",
              " 'Saturn',\n",
              " '(',\n",
              " '1',\n",
              " ',',\n",
              " '940',\n",
              " '-',\n",
              " '2',\n",
              " ',',\n",
              " '169',\n",
              " 'solar',\n",
              " 'radii',\n",
              " ').']"
            ]
          },
          "metadata": {},
          "execution_count": 21
        }
      ]
    },
    {
      "cell_type": "code",
      "source": [
        "text.lower()"
      ],
      "metadata": {
        "colab": {
          "base_uri": "https://localhost:8080/",
          "height": 88
        },
        "id": "8HofGf4MS3cq",
        "outputId": "6c5942dc-fd50-446c-8a9f-0a00240c3760"
      },
      "execution_count": null,
      "outputs": [
        {
          "output_type": "execute_result",
          "data": {
            "text/plain": [
              "'stephenson 2-18 is now known as being one of the largest, if not the current largest star ever discovered, surpassing other stars like vy canis majoris and uy scuti.\\n        stephenson 2-18 has a radius of 2,150 solar radii, being larger than almost the entire orbit of saturn (1,940 - 2,169 solar radii).'"
            ],
            "application/vnd.google.colaboratory.intrinsic+json": {
              "type": "string"
            }
          },
          "metadata": {},
          "execution_count": 22
        }
      ]
    },
    {
      "cell_type": "code",
      "source": [
        "text.upper()"
      ],
      "metadata": {
        "colab": {
          "base_uri": "https://localhost:8080/",
          "height": 88
        },
        "id": "lYPRWZdvS3fk",
        "outputId": "99185a92-4d75-40c7-8f02-6cd1af7fe59b"
      },
      "execution_count": null,
      "outputs": [
        {
          "output_type": "execute_result",
          "data": {
            "text/plain": [
              "'STEPHENSON 2-18 IS NOW KNOWN AS BEING ONE OF THE LARGEST, IF NOT THE CURRENT LARGEST STAR EVER DISCOVERED, SURPASSING OTHER STARS LIKE VY CANIS MAJORIS AND UY SCUTI.\\n        STEPHENSON 2-18 HAS A RADIUS OF 2,150 SOLAR RADII, BEING LARGER THAN ALMOST THE ENTIRE ORBIT OF SATURN (1,940 - 2,169 SOLAR RADII).'"
            ],
            "application/vnd.google.colaboratory.intrinsic+json": {
              "type": "string"
            }
          },
          "metadata": {},
          "execution_count": 23
        }
      ]
    }
  ],
  "metadata": {
    "colab": {
      "provenance": []
    },
    "kernelspec": {
      "display_name": "Python 3",
      "name": "python3"
    },
    "language_info": {
      "name": "python"
    }
  },
  "nbformat": 4,
  "nbformat_minor": 0
}